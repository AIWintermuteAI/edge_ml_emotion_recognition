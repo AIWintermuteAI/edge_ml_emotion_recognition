{
 "cells": [
  {
   "cell_type": "code",
   "execution_count": 4,
   "metadata": {},
   "outputs": [],
   "source": [
    "%matplotlib inline\n",
    "from pathlib import Path\n",
    "import pandas as pd\n",
    "import matplotlib.pyplot as plt\n",
    "\n",
    "root_path = Path(\"../data\")\n",
    "train_csv_path = root_path.joinpath(\"fer2013new.csv\")\n",
    "df = pd.read_csv(train_csv_path)\n"
   ]
  },
  {
   "cell_type": "code",
   "execution_count": 5,
   "metadata": {},
   "outputs": [
    {
     "name": "stdout",
     "output_type": "stream",
     "text": [
      "             Usage      Image name  neutral  happiness  surprise  sadness  \\\n",
      "0         Training  fer0000000.png        4          0         0        1   \n",
      "1         Training  fer0000001.png        6          0         1        1   \n",
      "2         Training  fer0000002.png        5          0         0        3   \n",
      "3         Training  fer0000003.png        4          0         0        4   \n",
      "4         Training  fer0000004.png        9          0         0        1   \n",
      "...            ...             ...      ...        ...       ...      ...   \n",
      "35882  PrivateTest  fer0035797.png        8          0         0        2   \n",
      "35883  PrivateTest             NaN        0          0         0        0   \n",
      "35884  PrivateTest  fer0035799.png        0          0         0        0   \n",
      "35885  PrivateTest  fer0035800.png        0         10         0        0   \n",
      "35886  PrivateTest  fer0035801.png        2          0         0        5   \n",
      "\n",
      "       anger  disgust  fear  contempt  unknown  NF  \n",
      "0          3        2     0         0        0   0  \n",
      "1          0        0     0         0        2   0  \n",
      "2          1        0     0         0        1   0  \n",
      "3          1        0     0         0        1   0  \n",
      "4          0        0     0         0        0   0  \n",
      "...      ...      ...   ...       ...      ...  ..  \n",
      "35882      0        0     0         0        0   0  \n",
      "35883      0        0     0         0        0  10  \n",
      "35884      7        1     0         2        0   0  \n",
      "35885      0        0     0         0        0   0  \n",
      "35886      1        1     0         0        1   0  \n",
      "\n",
      "[35887 rows x 12 columns]\n"
     ]
    }
   ],
   "source": [
    "print(df)"
   ]
  },
  {
   "cell_type": "code",
   "execution_count": 11,
   "metadata": {},
   "outputs": [
    {
     "name": "stdout",
     "output_type": "stream",
     "text": [
      "          Usage      Image name  neutral  happiness  surprise  sadness  anger  \\\n",
      "0      Training  fer0000000.png        4          0         0        1      3   \n",
      "1      Training  fer0000001.png        6          0         1        1      0   \n",
      "2      Training  fer0000002.png        5          0         0        3      1   \n",
      "3      Training  fer0000003.png        4          0         0        4      1   \n",
      "4      Training  fer0000004.png        9          0         0        1      0   \n",
      "...         ...             ...      ...        ...       ...      ...    ...   \n",
      "28556  Training  fer0028633.png        0          0         1        0      0   \n",
      "28557  Training  fer0028634.png        0          0         1        0      9   \n",
      "28558  Training  fer0028635.png        0          0         1        9      0   \n",
      "28559  Training  fer0028636.png        5          0         0        1      0   \n",
      "28560  Training  fer0028637.png        7          0         0        1      1   \n",
      "\n",
      "       disgust  fear  contempt  unknown  NF  \n",
      "0            2     0         0        0   0  \n",
      "1            0     0         0        2   0  \n",
      "2            0     0         0        1   0  \n",
      "3            0     0         0        1   0  \n",
      "4            0     0         0        0   0  \n",
      "...        ...   ...       ...      ...  ..  \n",
      "28556        0     9         0        0   0  \n",
      "28557        0     0         0        0   0  \n",
      "28558        0     0         0        0   0  \n",
      "28559        1     0         0        3   0  \n",
      "28560        0     0         0        1   0  \n",
      "\n",
      "[28561 rows x 12 columns]\n"
     ]
    }
   ],
   "source": [
    "train_df = df.loc[df['Usage'] == 'Training']\n",
    "train_df = train_df.dropna(axis=0)\n",
    "train_df.reset_index(drop=True, inplace=True)\n",
    "print(train_df)"
   ]
  },
  {
   "cell_type": "code",
   "execution_count": 12,
   "metadata": {},
   "outputs": [
    {
     "name": "stdout",
     "output_type": "stream",
     "text": [
      "           Usage      Image name  neutral  happiness  surprise  sadness  \\\n",
      "0     PublicTest  fer0028638.png        4          0         0        0   \n",
      "1     PublicTest  fer0028639.png        1          0         0        1   \n",
      "2     PublicTest  fer0028640.png        7          0         0        0   \n",
      "3     PublicTest  fer0028641.png        5          5         0        0   \n",
      "4     PublicTest  fer0028642.png        0         10         0        0   \n",
      "...          ...             ...      ...        ...       ...      ...   \n",
      "3574  PublicTest  fer0032215.png        3          0         1        4   \n",
      "3575  PublicTest  fer0032216.png        0         10         0        0   \n",
      "3576  PublicTest  fer0032217.png        4          0         0        4   \n",
      "3577  PublicTest  fer0032218.png        8          0         0        1   \n",
      "3578  PublicTest  fer0032219.png        8          0         0        2   \n",
      "\n",
      "      anger  disgust  fear  contempt  unknown  NF  \n",
      "0         1        0     0         4        1   0  \n",
      "1         0        2     0         6        0   0  \n",
      "2         2        0     0         1        0   0  \n",
      "3         0        0     0         0        0   0  \n",
      "4         0        0     0         0        0   0  \n",
      "...     ...      ...   ...       ...      ...  ..  \n",
      "3574      0        0     0         0        2   0  \n",
      "3575      0        0     0         0        0   0  \n",
      "3576      1        0     0         0        1   0  \n",
      "3577      0        0     0         1        0   0  \n",
      "3578      0        0     0         0        0   0  \n",
      "\n",
      "[3579 rows x 12 columns]\n"
     ]
    }
   ],
   "source": [
    "valid_df = df.loc[df['Usage'] == 'PublicTest']\n",
    "valid_df = valid_df.dropna(axis=0)\n",
    "valid_df.reset_index(drop=True, inplace=True)\n",
    "print(valid_df)"
   ]
  },
  {
   "cell_type": "code",
   "execution_count": 13,
   "metadata": {},
   "outputs": [
    {
     "name": "stdout",
     "output_type": "stream",
     "text": [
      "            Usage      Image name  neutral  happiness  surprise  sadness  \\\n",
      "0     PrivateTest  fer0032220.png        0          0         0        0   \n",
      "1     PrivateTest  fer0032222.png        3          0         0        5   \n",
      "2     PrivateTest  fer0032223.png        6          0         1        2   \n",
      "3     PrivateTest  fer0032224.png        0          0         4        0   \n",
      "4     PrivateTest  fer0032225.png        0          0         0        0   \n",
      "...           ...             ...      ...        ...       ...      ...   \n",
      "3569  PrivateTest  fer0035796.png        5          0         0        3   \n",
      "3570  PrivateTest  fer0035797.png        8          0         0        2   \n",
      "3571  PrivateTest  fer0035799.png        0          0         0        0   \n",
      "3572  PrivateTest  fer0035800.png        0         10         0        0   \n",
      "3573  PrivateTest  fer0035801.png        2          0         0        5   \n",
      "\n",
      "      anger  disgust  fear  contempt  unknown  NF  \n",
      "0         2        1     0         7        0   0  \n",
      "1         0        0     0         0        2   0  \n",
      "2         0        0     0         0        1   0  \n",
      "3         1        2     3         0        0   0  \n",
      "4         9        0     1         0        0   0  \n",
      "...     ...      ...   ...       ...      ...  ..  \n",
      "3569      0        0     0         0        2   0  \n",
      "3570      0        0     0         0        0   0  \n",
      "3571      7        1     0         2        0   0  \n",
      "3572      0        0     0         0        0   0  \n",
      "3573      1        1     0         0        1   0  \n",
      "\n",
      "[3574 rows x 12 columns]\n"
     ]
    }
   ],
   "source": [
    "test_df = df.loc[df['Usage'] == 'PrivateTest']\n",
    "test_df = test_df.dropna(axis=0)\n",
    "test_df.reset_index(drop=True, inplace=True)\n",
    "print(test_df)"
   ]
  },
  {
   "cell_type": "code",
   "execution_count": 16,
   "metadata": {},
   "outputs": [],
   "source": [
    "train_df.to_csv(root_path.joinpath('train.csv'))\n",
    "valid_df.to_csv(root_path.joinpath('valid.csv'))\n",
    "test_df.to_csv(root_path.joinpath('test.csv'))"
   ]
  },
  {
   "cell_type": "code",
   "execution_count": null,
   "metadata": {},
   "outputs": [],
   "source": []
  }
 ],
 "metadata": {
  "kernelspec": {
   "display_name": "Python 3",
   "language": "python",
   "name": "python3"
  },
  "language_info": {
   "codemirror_mode": {
    "name": "ipython",
    "version": 3
   },
   "file_extension": ".py",
   "mimetype": "text/x-python",
   "name": "python",
   "nbconvert_exporter": "python",
   "pygments_lexer": "ipython3",
   "version": "3.9.5"
  }
 },
 "nbformat": 4,
 "nbformat_minor": 1
}
